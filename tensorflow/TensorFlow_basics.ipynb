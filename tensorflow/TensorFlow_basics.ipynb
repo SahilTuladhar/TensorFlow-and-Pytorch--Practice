{
 "cells": [
  {
   "cell_type": "markdown",
   "metadata": {},
   "source": [
    "# TensorFlow Basics"
   ]
  },
  {
   "cell_type": "markdown",
   "metadata": {},
   "source": [
    "### 1. Tensors\n",
    "- TensorFlow operates on multidimensional arrays called tensors which as represented by tf.Tensor objects\n",
    "- Tensors are data that flows between layers"
   ]
  },
  {
   "cell_type": "code",
   "execution_count": 151,
   "metadata": {},
   "outputs": [],
   "source": [
    "import tensorflow as tf\n",
    "import os"
   ]
  },
  {
   "cell_type": "code",
   "execution_count": 152,
   "metadata": {},
   "outputs": [
    {
     "name": "stdout",
     "output_type": "stream",
     "text": [
      "tf.Tensor(\n",
      "[[1. 2. 3.]\n",
      " [4. 5. 6.]], shape=(2, 3), dtype=float32)\n",
      "(2, 3)\n",
      "<dtype: 'float32'>\n"
     ]
    }
   ],
   "source": [
    "x = tf.constant([[1. ,2. , 3.] ,\n",
    "                 [4. ,5. ,6.]])\n",
    "\n",
    "print(x)\n",
    "print(x.shape)\n",
    "print(x.dtype)"
   ]
  },
  {
   "cell_type": "markdown",
   "metadata": {},
   "source": [
    "The Most important attributes of a tf.Tensor object are\n",
    "\n",
    "1. **Tensor.shape:** tells the size of the tensor along each axis\n",
    "2. **Tensor.dtype:** tells you the type of the elements present in the tensor"
   ]
  },
  {
   "cell_type": "markdown",
   "metadata": {},
   "source": [
    "TensorFlow implements basic mathematical operations as well as specialized operations on the Tensors"
   ]
  },
  {
   "cell_type": "code",
   "execution_count": 153,
   "metadata": {},
   "outputs": [
    {
     "name": "stdout",
     "output_type": "stream",
     "text": [
      "tf.Tensor(\n",
      "[[ 2.  4.  6.]\n",
      " [ 8. 10. 12.]], shape=(2, 3), dtype=float32)\n",
      "<class 'tensorflow.python.framework.ops.EagerTensor'>\n",
      "<class 'numpy.ndarray'>\n"
     ]
    }
   ],
   "source": [
    "print(x+x)\n",
    "print(type(x+x))\n",
    "print(type((x + x ).numpy())) # converting Tensor into array"
   ]
  },
  {
   "cell_type": "code",
   "execution_count": 154,
   "metadata": {},
   "outputs": [
    {
     "data": {
      "text/plain": [
       "<tf.Tensor: shape=(2, 2), dtype=float32, numpy=\n",
       "array([[14., 32.],\n",
       "       [32., 77.]], dtype=float32)>"
      ]
     },
     "execution_count": 154,
     "metadata": {},
     "output_type": "execute_result"
    }
   ],
   "source": [
    "x @ tf.transpose(x) # @ = matrix multiplication"
   ]
  },
  {
   "cell_type": "markdown",
   "metadata": {},
   "source": [
    "**NOTE** : \n",
    "- *axis = 0* refers to rows and action takes place in vertical direction \n",
    "- *axis = 1* refers to columns and action takes place in the horizontal direction \n",
    "\n",
    " This is for a 2D Tensor = 2D array"
   ]
  },
  {
   "cell_type": "code",
   "execution_count": 155,
   "metadata": {},
   "outputs": [
    {
     "data": {
      "text/plain": [
       "<tf.Tensor: shape=(6, 3), dtype=float32, numpy=\n",
       "array([[1., 2., 3.],\n",
       "       [4., 5., 6.],\n",
       "       [1., 2., 3.],\n",
       "       [4., 5., 6.],\n",
       "       [1., 2., 3.],\n",
       "       [4., 5., 6.]], dtype=float32)>"
      ]
     },
     "execution_count": 155,
     "metadata": {},
     "output_type": "execute_result"
    }
   ],
   "source": [
    "tf.concat([x , x , x] , axis = 0)"
   ]
  },
  {
   "cell_type": "code",
   "execution_count": 156,
   "metadata": {},
   "outputs": [
    {
     "data": {
      "text/plain": [
       "<tf.Tensor: shape=(2, 9), dtype=float32, numpy=\n",
       "array([[1., 2., 3., 1., 2., 3., 1., 2., 3.],\n",
       "       [4., 5., 6., 4., 5., 6., 4., 5., 6.]], dtype=float32)>"
      ]
     },
     "execution_count": 156,
     "metadata": {},
     "output_type": "execute_result"
    }
   ],
   "source": [
    "tf.concat([x , x ,x] , axis = 1)"
   ]
  },
  {
   "cell_type": "code",
   "execution_count": 157,
   "metadata": {},
   "outputs": [
    {
     "data": {
      "text/plain": [
       "<tf.Tensor: shape=(2, 3), dtype=float32, numpy=\n",
       "array([[0.09003057, 0.24472848, 0.6652409 ],\n",
       "       [0.09003057, 0.24472848, 0.6652409 ]], dtype=float32)>"
      ]
     },
     "execution_count": 157,
     "metadata": {},
     "output_type": "execute_result"
    }
   ],
   "source": [
    "tf.nn.softmax(x , axis = -1)"
   ]
  },
  {
   "cell_type": "code",
   "execution_count": 158,
   "metadata": {},
   "outputs": [
    {
     "name": "stdout",
     "output_type": "stream",
     "text": [
      "tf.Tensor(\n",
      "[[1. 2. 3.]\n",
      " [4. 5. 6.]], shape=(2, 3), dtype=float32)\n",
      "tf.Tensor(21.0, shape=(), dtype=float32)\n",
      "tf.Tensor([5. 7. 9.], shape=(3,), dtype=float32)\n",
      "tf.Tensor([ 6. 15.], shape=(2,), dtype=float32)\n"
     ]
    }
   ],
   "source": [
    "print(x)\n",
    "print(tf.reduce_sum(x))\n",
    "print(tf.reduce_sum(x , axis = 0))\n",
    "print(tf.reduce_sum(x , axis = 1))"
   ]
  },
  {
   "cell_type": "markdown",
   "metadata": {},
   "source": [
    "**NOTE:** TensorFlow function expects a Tensor as an input , the function will also accept anything that can be converted to a Tensor using tf.convert_to_tensor."
   ]
  },
  {
   "cell_type": "code",
   "execution_count": 159,
   "metadata": {},
   "outputs": [
    {
     "data": {
      "text/plain": [
       "<tf.Tensor: shape=(3,), dtype=int32, numpy=array([1, 2, 3])>"
      ]
     },
     "execution_count": 159,
     "metadata": {},
     "output_type": "execute_result"
    }
   ],
   "source": [
    "tf.convert_to_tensor([1 , 2 ,3])"
   ]
  },
  {
   "cell_type": "markdown",
   "metadata": {},
   "source": [
    "#### 2. GPU acceleration \n",
    "- Running large calculations on CPU can be slow. When properly configured, TensorFlow can use accelerator hardware like GPUs to execute operations very quickly."
   ]
  },
  {
   "cell_type": "code",
   "execution_count": 160,
   "metadata": {},
   "outputs": [
    {
     "name": "stdout",
     "output_type": "stream",
     "text": [
      "TensorFlow **IS NOT** using the GPU\n"
     ]
    }
   ],
   "source": [
    "device = tf.config.list_physical_devices('GPU')\n",
    "\n",
    "if device: \n",
    " print(\"TensorFlow **IS** using the GPU\")\n",
    " for devices in device:\n",
    "  print(devices)\n",
    "\n",
    "else:\n",
    " print(\"TensorFlow **IS NOT** using the GPU\")"
   ]
  },
  {
   "cell_type": "markdown",
   "metadata": {},
   "source": [
    "### 3. Variables\n",
    "- Normal tf.Tensor objects are immutable : not changable\n",
    "- To store the model weights in tensorFlow we need to use Variables that are represented by tf.Variable"
   ]
  },
  {
   "cell_type": "code",
   "execution_count": 161,
   "metadata": {},
   "outputs": [],
   "source": [
    "var = tf.Variable([0.0 , 0.0 , 0.0])"
   ]
  },
  {
   "cell_type": "code",
   "execution_count": 162,
   "metadata": {},
   "outputs": [
    {
     "data": {
      "text/plain": [
       "<tf.Variable 'Variable:0' shape=(3,) dtype=float32, numpy=array([0., 0., 0.], dtype=float32)>"
      ]
     },
     "execution_count": 162,
     "metadata": {},
     "output_type": "execute_result"
    }
   ],
   "source": [
    "var"
   ]
  },
  {
   "cell_type": "code",
   "execution_count": 163,
   "metadata": {},
   "outputs": [
    {
     "data": {
      "text/plain": [
       "<tf.Variable 'UnreadVariable' shape=(3,) dtype=float32, numpy=array([1., 2., 3.], dtype=float32)>"
      ]
     },
     "execution_count": 163,
     "metadata": {},
     "output_type": "execute_result"
    }
   ],
   "source": [
    "var.assign([1,2,3])"
   ]
  },
  {
   "cell_type": "code",
   "execution_count": 164,
   "metadata": {},
   "outputs": [
    {
     "data": {
      "text/plain": [
       "<tf.Variable 'Variable:0' shape=(3,) dtype=float32, numpy=array([1., 2., 3.], dtype=float32)>"
      ]
     },
     "execution_count": 164,
     "metadata": {},
     "output_type": "execute_result"
    }
   ],
   "source": [
    "var"
   ]
  },
  {
   "cell_type": "code",
   "execution_count": 165,
   "metadata": {},
   "outputs": [
    {
     "data": {
      "text/plain": [
       "<tf.Variable 'UnreadVariable' shape=(3,) dtype=float32, numpy=array([2., 4., 6.], dtype=float32)>"
      ]
     },
     "execution_count": 165,
     "metadata": {},
     "output_type": "execute_result"
    }
   ],
   "source": [
    "var.assign_add([1 , 2 , 3])"
   ]
  },
  {
   "cell_type": "code",
   "execution_count": 166,
   "metadata": {},
   "outputs": [
    {
     "data": {
      "text/plain": [
       "<tf.Variable 'Variable:0' shape=(3,) dtype=float32, numpy=array([2., 4., 6.], dtype=float32)>"
      ]
     },
     "execution_count": 166,
     "metadata": {},
     "output_type": "execute_result"
    }
   ],
   "source": [
    "var"
   ]
  },
  {
   "cell_type": "markdown",
   "metadata": {},
   "source": [
    "### 4. Automatic Differentiation\n",
    "- In machine learing the train the model we need to optimze the loss of the model by performing gradient descent where we calculate the gradient of the loss wrt to the parameters and then update the parameter values\n",
    "- instead of calculating the gradient of a function manually tensorflow allows us to calculate the gradient of a function using a concept called **autodiff**"
   ]
  },
  {
   "cell_type": "code",
   "execution_count": 167,
   "metadata": {},
   "outputs": [],
   "source": [
    "x = tf.Variable(1.0)\n",
    "\n",
    "def f(x):\n",
    "  y = x**2 + 2*x - 5 \n",
    "\n",
    "  return y"
   ]
  },
  {
   "cell_type": "code",
   "execution_count": 168,
   "metadata": {},
   "outputs": [
    {
     "data": {
      "text/plain": [
       "<tf.Tensor: shape=(), dtype=float32, numpy=-2.0>"
      ]
     },
     "execution_count": 168,
     "metadata": {},
     "output_type": "execute_result"
    }
   ],
   "source": [
    "f(x)"
   ]
  },
  {
   "attachments": {
    "image.png": {
     "image/png": "[encoded data removed]"
    }
   },
   "cell_type": "markdown",
   "metadata": {},
   "source": [
    "   ![image.png](attachment:image.png)"
   ]
  },
  {
   "cell_type": "code",
   "execution_count": 169,
   "metadata": {},
   "outputs": [],
   "source": [
    "# implementing autodiff\n",
    "\n",
    "with tf.GradientTape() as tape:\n",
    "\n",
    "  y = f(x)\n",
    "\n",
    "g_x = tape.gradient(y , x )"
   ]
  },
  {
   "cell_type": "code",
   "execution_count": 170,
   "metadata": {},
   "outputs": [
    {
     "data": {
      "text/plain": [
       "<tf.Tensor: shape=(), dtype=float32, numpy=4.0>"
      ]
     },
     "execution_count": 170,
     "metadata": {},
     "output_type": "execute_result"
    }
   ],
   "source": [
    "g_x"
   ]
  },
  {
   "cell_type": "markdown",
   "metadata": {},
   "source": [
    "### 5. Graphs and Functions\n",
    "- The concept of Graphs and Functions are used for two things \n",
    "   - Performance Optimization : Speeding up Training\n",
    "   - Exporting : We can save the models when its done training\n",
    "\n",
    "- For this a decorator **@tf.function** is used to convert normal Python function into TensorFlow graphs\n",
    "- There are two forms of execution in Tensorflow\n",
    "   - By Eager Execution \n",
    "   - By Graph Execution \n",
    "- In Eager Execution, the function or the line of code runs when it is called or encoutered\n",
    "- *In Graph Execution, Tf compiles the function into a computational graph, which means that the first time you run the function , Tf traces the operation present within the function and builds a graph and optimizes performance for subsquent calls as in subsequent calls the same old graph created is used and only pure-TensorFlow code is run and Python codes are ignored which reduces the execution load*\n",
    "- In Eager execution for each instance the entire function is run along with python codes which makes it slower than graph execution\n",
    "\n",
    "**Advantages**\n",
    "1. In many cases they provide a significant speedup in execution\n",
    "2. You can export these graphs, using tf.saved_model, to run on other systems like a server or a mobile device, no Python installation required."
   ]
  },
  {
   "cell_type": "code",
   "execution_count": 171,
   "metadata": {},
   "outputs": [],
   "source": [
    "@tf.function\n",
    "def my_func(x):\n",
    " print(\"Tracing.\\n\")\n",
    " return tf.reduce_sum(x)"
   ]
  },
  {
   "cell_type": "markdown",
   "metadata": {},
   "source": [
    "The first time you run the tf.function, although it executes in Python, it captures a complete, optimized graph representing the TensorFlow computations done within the function."
   ]
  },
  {
   "cell_type": "code",
   "execution_count": 172,
   "metadata": {},
   "outputs": [
    {
     "name": "stdout",
     "output_type": "stream",
     "text": [
      "Tracing.\n",
      "\n"
     ]
    },
    {
     "data": {
      "text/plain": [
       "<tf.Tensor: shape=(), dtype=int32, numpy=6>"
      ]
     },
     "execution_count": 172,
     "metadata": {},
     "output_type": "execute_result"
    }
   ],
   "source": [
    "x = tf.constant([1,2,3])\n",
    "\n",
    "my_func(x)"
   ]
  },
  {
   "cell_type": "markdown",
   "metadata": {},
   "source": [
    "On subsequent calls TensorFlow only executes the optimized graph, skipping any non-TensorFlow steps. Below, note that my_func doesn't print tracing since print is a Python function, not a TensorFlow function"
   ]
  },
  {
   "cell_type": "code",
   "execution_count": 173,
   "metadata": {},
   "outputs": [
    {
     "data": {
      "text/plain": [
       "<tf.Tensor: shape=(), dtype=int32, numpy=15>"
      ]
     },
     "execution_count": 173,
     "metadata": {},
     "output_type": "execute_result"
    }
   ],
   "source": [
    "x = tf.constant([4,5,6])\n",
    "\n",
    "my_func(x)"
   ]
  },
  {
   "cell_type": "markdown",
   "metadata": {},
   "source": [
    "A graph may not be reusable for inputs with a different signature (shape and dtype), so a new graph is generated instead:(i.e. python codes will be again read to create new graph so Tracing will be printed)"
   ]
  },
  {
   "cell_type": "code",
   "execution_count": 174,
   "metadata": {},
   "outputs": [
    {
     "name": "stdout",
     "output_type": "stream",
     "text": [
      "Tracing.\n",
      "\n"
     ]
    },
    {
     "data": {
      "text/plain": [
       "<tf.Tensor: shape=(), dtype=float32, numpy=6.0>"
      ]
     },
     "execution_count": 174,
     "metadata": {},
     "output_type": "execute_result"
    }
   ],
   "source": [
    "x = tf.constant([1., 2. , 3.])\n",
    "my_func(x)"
   ]
  },
  {
   "cell_type": "markdown",
   "metadata": {},
   "source": [
    "### 6.Modules , Layers and models\n",
    "\n",
    "- tf.Module is a class that is used for managing the tf.Variable and tf.function objects to be used in your model\n",
    "- It serves as a method to encapsulate and manage the parameters and the computations that involve the parameters \n",
    "- For Eg: Initializing the weights , calculating the gradients and updating the parameters\n",
    "\n",
    "**Significant Features**\n",
    "1. You can *save* and *restore* the values of your *variables* using **tf.train.Checkpoint**. This is useful during training as it is quick to save and restore a model's state.\n",
    "\n",
    "2. You can import and export the tf.Variable values and the tf.function graphs using **tf.saved_model**. This allows you to run your model independently of the Python program that created it.\n"
   ]
  },
  {
   "cell_type": "markdown",
   "metadata": {},
   "source": [
    "**METHOD RESOLUTION ORDER (MRO)**\n",
    "- Determines the order in which the classes are searched when looking for a method\n",
    "- Order is determined in the way the order in which the child inherits the parent classes"
   ]
  },
  {
   "cell_type": "markdown",
   "metadata": {},
   "source": [
    "Here C ( A , B) , so MRO = C -> A -> B"
   ]
  },
  {
   "cell_type": "code",
   "execution_count": 175,
   "metadata": {},
   "outputs": [],
   "source": [
    "class A:\n",
    "\n",
    " def greet(self):\n",
    "  print('Hello A')\n",
    "\n",
    "class B:\n",
    " def greet(self):\n",
    "   print ('Hello B')\n",
    "\n",
    "class C(A , B):\n",
    " def greet(self):\n",
    "  super(C,self).greet()\n",
    "\n",
    " "
   ]
  },
  {
   "cell_type": "code",
   "execution_count": 176,
   "metadata": {},
   "outputs": [
    {
     "name": "stdout",
     "output_type": "stream",
     "text": [
      "Hello A\n"
     ]
    }
   ],
   "source": [
    "c_inst = C()\n",
    "c_inst.greet()"
   ]
  },
  {
   "cell_type": "markdown",
   "metadata": {},
   "source": [
    "Here C ( B , A) , so MRO = C -> B -> A"
   ]
  },
  {
   "cell_type": "code",
   "execution_count": 177,
   "metadata": {},
   "outputs": [],
   "source": [
    "class A:\n",
    "\n",
    " def greet(self):\n",
    "  print('Hello A')\n",
    "\n",
    "class B:\n",
    " def greet(self):\n",
    "   print ('Hello B')\n",
    "\n",
    "class C(B , A):\n",
    " def greet(self):\n",
    "  super(C,self).greet()\n",
    "\n",
    " "
   ]
  },
  {
   "cell_type": "code",
   "execution_count": 178,
   "metadata": {},
   "outputs": [
    {
     "name": "stdout",
     "output_type": "stream",
     "text": [
      "Hello B\n"
     ]
    }
   ],
   "source": [
    "c_inst = C()\n",
    "c_inst.greet()"
   ]
  },
  {
   "cell_type": "code",
   "execution_count": 179,
   "metadata": {},
   "outputs": [],
   "source": [
    "class MyModule(tf.Module):\n",
    "\n",
    "  def __init__(self , value):\n",
    "    super(MyModule , self).__init__()\n",
    "    self.weight = tf.Variable(value)\n",
    "\n",
    "  @tf.function\n",
    "  def multiply(self , x):\n",
    "    return x * self.weight"
   ]
  },
  {
   "cell_type": "code",
   "execution_count": 180,
   "metadata": {},
   "outputs": [
    {
     "data": {
      "text/plain": [
       "<tf.Tensor: shape=(3,), dtype=int32, numpy=array([3, 6, 9])>"
      ]
     },
     "execution_count": 180,
     "metadata": {},
     "output_type": "execute_result"
    }
   ],
   "source": [
    "mod_inst = MyModule(3)\n",
    "mod_inst.multiply(tf.constant([1,2,3]))\n"
   ]
  },
  {
   "cell_type": "code",
   "execution_count": 181,
   "metadata": {},
   "outputs": [
    {
     "data": {
      "text/plain": [
       "<tf.Tensor: shape=(2, 2), dtype=int32, numpy=\n",
       "array([[10, 10],\n",
       "       [15, 15]])>"
      ]
     },
     "execution_count": 181,
     "metadata": {},
     "output_type": "execute_result"
    }
   ],
   "source": [
    "mod_inst1 = MyModule(5)\n",
    "mod_inst1.multiply(tf.constant([[2,2],[3,3]]))"
   ]
  },
  {
   "cell_type": "markdown",
   "metadata": {},
   "source": [
    "Save the module"
   ]
  },
  {
   "cell_type": "code",
   "execution_count": 182,
   "metadata": {},
   "outputs": [
    {
     "name": "stdout",
     "output_type": "stream",
     "text": [
      "INFO:tensorflow:Assets written to: ./saved/mod_inst/assets\n"
     ]
    },
    {
     "name": "stderr",
     "output_type": "stream",
     "text": [
      "INFO:tensorflow:Assets written to: ./saved/mod_inst/assets\n"
     ]
    }
   ],
   "source": [
    "save_path = './saved/mod_inst/'\n",
    "tf.saved_model.save(mod_inst , save_path)"
   ]
  },
  {
   "cell_type": "code",
   "execution_count": 183,
   "metadata": {},
   "outputs": [
    {
     "name": "stdout",
     "output_type": "stream",
     "text": [
      "INFO:tensorflow:Assets written to: ./saved/mod_inst/assets\n"
     ]
    },
    {
     "name": "stderr",
     "output_type": "stream",
     "text": [
      "INFO:tensorflow:Assets written to: ./saved/mod_inst/assets\n"
     ]
    }
   ],
   "source": [
    "save_path1 = './saved/mod_inst1/'\n",
    "tf.saved_model.save(mod_inst1 , save_path)"
   ]
  },
  {
   "cell_type": "markdown",
   "metadata": {},
   "source": [
    "Loading the module"
   ]
  },
  {
   "cell_type": "code",
   "execution_count": 184,
   "metadata": {},
   "outputs": [
    {
     "name": "stdout",
     "output_type": "stream",
     "text": [
      "_SignatureMap({})\n"
     ]
    },
    {
     "data": {
      "text/plain": [
       "<tf.Tensor: shape=(2, 2), dtype=int32, numpy=\n",
       "array([[20, 20],\n",
       "       [25, 25]])>"
      ]
     },
     "execution_count": 184,
     "metadata": {},
     "output_type": "execute_result"
    }
   ],
   "source": [
    "loaded_mod = tf.saved_model.load(save_path)\n",
    "\n",
    "print(loaded_mod.signatures)\n",
    "\n",
    "loaded_mod.multiply(tf.constant([[4,4],[5,5]]))"
   ]
  },
  {
   "cell_type": "code",
   "execution_count": 185,
   "metadata": {},
   "outputs": [
    {
     "data": {
      "text/plain": [
       "<tf.Tensor: shape=(2, 2), dtype=int32, numpy=\n",
       "array([[20, 20],\n",
       "       [25, 25]])>"
      ]
     },
     "execution_count": 185,
     "metadata": {},
     "output_type": "execute_result"
    }
   ],
   "source": [
    "loaded_mod1 = tf.saved_model.load(save_path1)\n",
    "\n",
    "loaded_mod1.multiply([[4,4],[5,5]])"
   ]
  },
  {
   "cell_type": "markdown",
   "metadata": {},
   "source": [
    "**NOTE:** *tf.keras.layers.Layer* and *tf.keras.Model* builds upon the functionality of tf.Module meaning that they are able to inherit from *tf.Module*"
   ]
  },
  {
   "cell_type": "markdown",
   "metadata": {},
   "source": [
    "### 7. Training Loops\n",
    "- Building a basic model and training it from scratch"
   ]
  },
  {
   "cell_type": "code",
   "execution_count": 186,
   "metadata": {},
   "outputs": [],
   "source": [
    "import matplotlib\n",
    "import matplotlib.pyplot as plt\n",
    "import numpy as np\n",
    "\n",
    "matplotlib.rcParams['figure.figsize'] = [9,6]"
   ]
  },
  {
   "cell_type": "code",
   "execution_count": 187,
   "metadata": {},
   "outputs": [],
   "source": [
    "np.random.seed(42)\n"
   ]
  },
  {
   "cell_type": "code",
   "execution_count": 188,
   "metadata": {},
   "outputs": [
    {
     "data": {
      "text/plain": [
       "<matplotlib.legend.Legend at 0x272dc1992e0>"
      ]
     },
     "execution_count": 188,
     "metadata": {},
     "output_type": "execute_result"
    },
    {
     "data": {
      "image/png": "[encoded data removed]",
      "text/plain": [
       "<Figure size 900x600 with 1 Axes>"
      ]
     },
     "metadata": {},
     "output_type": "display_data"
    }
   ],
   "source": [
    "x  = tf.linspace(-2,2,201)\n",
    "x = tf.cast(x , tf.float32)\n",
    "\n",
    "def quad_func(x):\n",
    "  y = x**2 + 2*x -5 \n",
    "  return y\n",
    "\n",
    "y = quad_func(x) + np.random.randn(201)\n",
    "\n",
    "plt.plot(x.numpy() , y.numpy() ,'.' , label = 'Data')\n",
    "plt.plot(x , f(x) , label ='Ground Truth')\n",
    "plt.legend()"
   ]
  },
  {
   "cell_type": "markdown",
   "metadata": {},
   "source": [
    "Creating a quadratic model with randomly initialized weights and bias"
   ]
  },
  {
   "cell_type": "code",
   "execution_count": 189,
   "metadata": {},
   "outputs": [],
   "source": [
    "class Model(tf.Module):\n",
    "\n",
    "  def __init__(self):\n",
    "    super(Model , self).__init__()\n",
    "\n",
    "    #Randomly generating weight and bias parameters\n",
    "\n",
    "    rand_int = tf.random.uniform(shape = [3] , minval= 0. , maxval= 5. , seed = 22)\n",
    "\n",
    "    self.w_q  = tf.Variable(rand_int[0])\n",
    "    self.w_l = tf.Variable(rand_int[1])\n",
    "    self.b = tf.Variable(rand_int[2])\n",
    "\n",
    "  @tf.function\n",
    "  def __call__ (self , x):\n",
    "     return self.w_q * (x**2) + self.w_l * x + self.b"
   ]
  },
  {
   "cell_type": "code",
   "execution_count": 190,
   "metadata": {},
   "outputs": [],
   "source": [
    "# Observing the model's Performance before training\n",
    "\n",
    "quad_model = Model()"
   ]
  },
  {
   "cell_type": "code",
   "execution_count": 191,
   "metadata": {},
   "outputs": [],
   "source": [
    "def plot_preds( x , y , f , model , title):\n",
    "  \n",
    "  plt.figure()\n",
    "  plt.plot(x , y , '.' , label ='Data')\n",
    "  plt.plot(x , f(x) , label ='Ground Truth')\n",
    "  plt.plot( x , model(x) , label ='Predictions')\n",
    "  plt.title(title)\n",
    "  plt.legend()"
   ]
  },
  {
   "cell_type": "code",
   "execution_count": 192,
   "metadata": {},
   "outputs": [
    {
     "data": {
      "image/png": "[encoded data removed]",
      "text/plain": [
       "<Figure size 900x600 with 1 Axes>"
      ]
     },
     "metadata": {},
     "output_type": "display_data"
    }
   ],
   "source": [
    "plot_preds(x , y , quad_func , quad_model , 'Before Training' )"
   ]
  },
  {
   "cell_type": "markdown",
   "metadata": {},
   "source": [
    "Defining the loss function"
   ]
  },
  {
   "cell_type": "code",
   "execution_count": 193,
   "metadata": {},
   "outputs": [],
   "source": [
    "def mse_loss(y_pred , y):\n",
    "  return tf.reduce_mean(tf.square(y_pred - y))"
   ]
  },
  {
   "cell_type": "code",
   "execution_count": 194,
   "metadata": {},
   "outputs": [
    {
     "data": {
      "text/plain": [
       "TensorShape([201])"
      ]
     },
     "execution_count": 194,
     "metadata": {},
     "output_type": "execute_result"
    }
   ],
   "source": [
    "x.shape"
   ]
  },
  {
   "cell_type": "markdown",
   "metadata": {},
   "source": [
    "Creating a loop to minimize loss function and update parameters"
   ]
  },
  {
   "cell_type": "code",
   "execution_count": 195,
   "metadata": {},
   "outputs": [],
   "source": [
    "#Creating a Dataset\n",
    "\n",
    "batch_size = 32\n",
    "dataset = tf.data.Dataset.from_tensor_slices((x, y))\n",
    "dataset = dataset.shuffle(buffer_size=x.shape[0]).batch(batch_size)"
   ]
  },
  {
   "cell_type": "code",
   "execution_count": 196,
   "metadata": {},
   "outputs": [
    {
     "data": {
      "text/plain": [
       "(<tf.Variable 'Variable:0' shape=() dtype=float32, numpy=2.5921345>,\n",
       " <tf.Variable 'Variable:0' shape=() dtype=float32, numpy=2.3315172>,\n",
       " <tf.Variable 'Variable:0' shape=() dtype=float32, numpy=4.938236>)"
      ]
     },
     "execution_count": 196,
     "metadata": {},
     "output_type": "execute_result"
    }
   ],
   "source": [
    "quad_model.variables"
   ]
  },
  {
   "cell_type": "code",
   "execution_count": 197,
   "metadata": {},
   "outputs": [],
   "source": [
    "with tf.GradientTape() as tape: \n",
    "      \n",
    "  batch_loss = mse_loss(quad_model(x) , y)\n",
    "   \n",
    "grads = tape.gradient(batch_loss , quad_model.variables)"
   ]
  },
  {
   "cell_type": "code",
   "execution_count": 198,
   "metadata": {},
   "outputs": [
    {
     "name": "stdout",
     "output_type": "stream",
     "text": [
      "tf.Tensor(25.868828, shape=(), dtype=float32) <tf.Variable 'Variable:0' shape=() dtype=float32, numpy=2.5921345>\n",
      "tf.Tensor(0.73294973, shape=(), dtype=float32) <tf.Variable 'Variable:0' shape=() dtype=float32, numpy=2.3315172>\n",
      "tf.Tensor(46.305218, shape=(), dtype=float32) <tf.Variable 'Variable:0' shape=() dtype=float32, numpy=4.938236>\n"
     ]
    }
   ],
   "source": [
    "for g , v in zip(grads , quad_model.variables):\n",
    " print( g , v)"
   ]
  },
  {
   "cell_type": "code",
   "execution_count": 199,
   "metadata": {},
   "outputs": [
    {
     "name": "stdout",
     "output_type": "stream",
     "text": [
      "MSE for step 100: 68.45970153808594\n",
      "MSE for step 100: 4.137494087219238\n",
      "MSE for step 100: 2.0160980224609375\n",
      "MSE for step 100: 1.2659902572631836\n",
      "MSE for step 100: 1.00144624710083\n",
      "MSE for step 100: 0.9049763083457947\n",
      "MSE for step 100: 0.8743342161178589\n",
      "MSE for step 100: 0.860668420791626\n",
      "MSE for step 100: 0.8555720448493958\n",
      "MSE for step 100: 0.8558637499809265\n"
     ]
    },
    {
     "data": {
      "text/plain": [
       "<matplotlib.legend.Legend at 0x272d9cfbb30>"
      ]
     },
     "execution_count": 199,
     "metadata": {},
     "output_type": "execute_result"
    },
    {
     "data": {
      "image/png": "[encoded data removed]",
      "text/plain": [
       "<Figure size 900x600 with 1 Axes>"
      ]
     },
     "metadata": {},
     "output_type": "display_data"
    }
   ],
   "source": [
    "#Setting up the training parameters \n",
    "\n",
    "epochs = 100\n",
    "leaarning_rate = 0.01\n",
    "losses = []\n",
    "\n",
    "for epoch in range(epochs):\n",
    " \n",
    " for x_batch , y_batch in dataset:\n",
    "   \n",
    "   with tf.GradientTape() as tape: \n",
    "      \n",
    "     batch_loss = mse_loss(quad_model(x_batch) , y_batch)\n",
    "   \n",
    "   grads = tape.gradient(batch_loss , quad_model.variables)\n",
    "\n",
    "   for g , v in zip(grads , quad_model.variables):\n",
    "     \n",
    "     #Updating each weight parameter\n",
    "     v.assign_sub(leaarning_rate * g)\n",
    " \n",
    " # Keeping track of loss\n",
    "\n",
    " loss = mse_loss(quad_model(x) , y)\n",
    " losses.append(loss)\n",
    "\n",
    " if epoch % 10 == 0:\n",
    "   print(f\"MSE for step {epochs}: {loss.numpy()}\")\n",
    " \n",
    "# plotting the loss throughout the training process\n",
    "\n",
    "plt.figure()\n",
    "plt.plot(range(epochs) , losses , label = 'Loss function')\n",
    "plt.xlabel('Epochs')\n",
    "plt.ylabel('Loss')\n",
    "plt.title('MSE Loss Vs training Iterations')\n",
    "plt.legend()"
   ]
  },
  {
   "cell_type": "code",
   "execution_count": 200,
   "metadata": {},
   "outputs": [
    {
     "data": {
      "image/png": "[encoded data removed]",
      "text/plain": [
       "<Figure size 900x600 with 1 Axes>"
      ]
     },
     "metadata": {},
     "output_type": "display_data"
    }
   ],
   "source": [
    "plot_preds( x , y , quad_func , quad_model , \"After Training\")"
   ]
  },
  {
   "cell_type": "code",
   "execution_count": 204,
   "metadata": {},
   "outputs": [
    {
     "name": "stdout",
     "output_type": "stream",
     "text": [
      "-5.75 -5.7830725\n"
     ]
    }
   ],
   "source": [
    "x =  -0.5\n",
    "y = quad_func(x)\n",
    "y_pred = quad_model(x).numpy()\n",
    "\n",
    "print(y , y_pred)"
   ]
  },
  {
   "cell_type": "code",
   "execution_count": null,
   "metadata": {},
   "outputs": [],
   "source": []
  }
 ],
 "metadata": {
  "kernelspec": {
   "display_name": "Python 3",
   "language": "python",
   "name": "python3"
  },
  "language_info": {
   "codemirror_mode": {
    "name": "ipython",
    "version": 3
   },
   "file_extension": ".py",
   "mimetype": "text/x-python",
   "name": "python",
   "nbconvert_exporter": "python",
   "pygments_lexer": "ipython3",
   "version": "3.12.5"
  }
 },
 "nbformat": 4,
 "nbformat_minor": 2
}
